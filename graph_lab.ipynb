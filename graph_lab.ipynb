{
 "cells": [
  {
   "cell_type": "markdown",
   "id": "2d65a8a5-860e-41d8-ac27-fabb65da8243",
   "metadata": {},
   "source": [
    "# Graph Lab"
   ]
  },
  {
   "cell_type": "markdown",
   "id": "0287692e-0294-4c54-8ad3-c8d8425ab85c",
   "metadata": {},
   "source": [
    "## Header information:\n",
    "\n",
    "  - Author #1: Stanley Nguyen (nguyes44@mcmaster.ca)\n",
    "  - Author #2: Arvind Shastri (shasta2@mcmaster.ca) (owner)\n",
    "  - Gitlab URL: https://gitlab.cas.mcmaster.ca/shasta2/l1-graph-lab.git\n",
    "  - Avenue to Learn group name: 48 "
   ]
  },
  {
   "cell_type": "code",
   "execution_count": 54,
   "id": "d930eca9-bac7-44ed-b626-037b948c8a9b",
   "metadata": {},
   "outputs": [
    {
     "name": "stdout",
     "output_type": "stream",
     "text": [
      "Stations             Line                           Line Number          Time      \n",
      "---------------------------------------------------------------------------------\n",
      "\n",
      "\n",
      "                                                    Total Time:          0         \n",
      "\n",
      "\n"
     ]
    }
   ],
   "source": [
    "import sys\n",
    "\n",
    "# sys.path.insert(0, '.\\..\\..\\src\\Graph Builder') #runnin\n",
    "sys.path.append('.\\src\\Graph_Builder')\n",
    "sys.path.append('.\\src\\Metric_Extractor')\n",
    "sys.path.append('.\\_dataset')\n",
    "\n",
    "from CsvLine import csvReaderLines\n",
    "from CsvStation import csvReaderStations\n",
    "from CsvConnection import csvReaderConnections\n",
    "from GraphBuilder import GraphBuilder\n",
    "from DegPerStation import numberOfDegreesPerStation\n",
    "from TEMPPlotter import plotDegreeFrequency\n",
    "from MetricExtractor import MetricExtractor\n",
    "from Dijkstra3 import Dijkstra\n",
    "\n",
    "londonLines = \"_dataset\\london.lines.csv\"\n",
    "londonStations = \"_dataset\\london.stations.csv\"\n",
    "londonConnections = \"_dataset\\london.connections.csv\"\n",
    "\n",
    "tempStations = csvReaderStations(londonStations)\n",
    "tempLines = csvReaderLines(londonLines)\n",
    "tempConnections = csvReaderConnections(londonConnections, tempLines, tempStations)\n",
    "\n",
    "graph = GraphBuilder(tempStations, tempLines, tempConnections)\n",
    "graph.load_graph()\n",
    "# graph.print_graph()\n",
    "\n",
    "# plotDegreeFrequency(graph)\n",
    "\n",
    "metric = MetricExtractor(graph)\n",
    "metric._strategy = Dijkstra()\n",
    "metric.algorithm('11', '200')\n",
    "metric.print_output()\n"
   ]
  },
  {
   "cell_type": "markdown",
   "id": "a06cb602",
   "metadata": {},
   "source": [
    "-line, station, and connection have been chosen to have their own classes because this design follows the single responsibility principle. A single file does not have to worry about information of both lines and station, and instead has the sole purpose of depicting the properties of one individual thing.\n",
    "-connection info is its own class because that allows us to compact the connection class and treat the connection more as a traditional edge that contains two connecting nodes. Adding more information to an edge does not modify the connection class, which ties into single responsibility, open-closed principle?\n",
    "-graph builder class focuses on producing a graph given the dataset with the use of helper functions.\n",
    "-graph is depicted via adjacency matrix because it allows us to access our neighbours more quickly (?) compared to an adjacency list, which is helpful for what we want to do with our graph such as compute shortest path.\n",
    "-our algorithms are in seperate files to incorporate the strategy / factory design pattern (?)\n",
    "-we include each metric extraction in seperate files to follow the open-closed principle. If one were to want another metric measured, we would not have to modify existing code and instead add onto our codebase."
   ]
  },
  {
   "cell_type": "markdown",
   "id": "bcae5cbc",
   "metadata": {},
   "source": []
  },
  {
   "cell_type": "code",
   "execution_count": null,
   "id": "32549eed",
   "metadata": {},
   "outputs": [],
   "source": []
  }
 ],
 "metadata": {
  "kernelspec": {
   "display_name": "Python 3 (ipykernel)",
   "language": "python",
   "name": "python3"
  },
  "language_info": {
   "codemirror_mode": {
    "name": "ipython",
    "version": 3
   },
   "file_extension": ".py",
   "mimetype": "text/x-python",
   "name": "python",
   "nbconvert_exporter": "python",
   "pygments_lexer": "ipython3",
   "version": "3.10.7"
  },
  "vscode": {
   "interpreter": {
    "hash": "c49c7c7adfe892c6f055310db548ae336e5488a7d1f083d275a98ade2f5bae36"
   }
  }
 },
 "nbformat": 4,
 "nbformat_minor": 5
}
