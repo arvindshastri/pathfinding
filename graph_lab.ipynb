{
 "cells": [
  {
   "cell_type": "markdown",
   "id": "2d65a8a5-860e-41d8-ac27-fabb65da8243",
   "metadata": {},
   "source": [
    "# Graph Lab"
   ]
  },
  {
   "cell_type": "markdown",
   "id": "0287692e-0294-4c54-8ad3-c8d8425ab85c",
   "metadata": {},
   "source": [
    "## Header information:\n",
    "\n",
    "  - Author #1: Stanley Nguyen (nguyes44@mcmaster.ca)\n",
    "  - Author #2: Arvind Shastri (shasta2@mcmaster.ca) (owner)\n",
    "  - Gitlab URL: https://gitlab.cas.mcmaster.ca/shasta2/l1-graph-lab.git\n",
    "  - Avenue to Learn group name: 48 "
   ]
  },
  {
   "cell_type": "markdown",
   "id": "fc227606-7ec7-4f54-857e-99d22011085c",
   "metadata": {},
   "source": [
    "### Importing Required Modules"
   ]
  },
  {
   "cell_type": "markdown",
   "id": "9eb7f31a-63bb-4b90-a052-ea2902b0e41c",
   "metadata": {},
   "source": [
    "This cell imports all required modules related to this library, including appending the relative paths of the relevant modules to sys.path, and declaring the location of the dataset."
   ]
  },
  {
   "cell_type": "code",
   "execution_count": 1,
   "id": "c67a1966-59b5-4f01-8e6a-e28b6f0f1251",
   "metadata": {},
   "outputs": [],
   "source": [
    "import sys\n",
    "\n",
    "sys.path.append('.\\src\\Graph_Builder')\n",
    "sys.path.append('.\\src\\Metric_Extractor')\n",
    "sys.path.append('.\\_dataset')\n",
    "\n",
    "from CsvLine import csvReaderLines\n",
    "from CsvStation import csvReaderStations\n",
    "from CsvConnection import csvReaderConnections\n",
    "from GraphBuilder import GraphBuilder\n",
    "from MetricExtractor import MetricExtractor\n",
    "from Dijkstra import Dijkstra\n",
    "from A_Star import A_Star\n",
    "\n",
    "londonLines = \"_dataset/london.lines.csv\"\n",
    "londonStations = \"_dataset/london.stations.csv\"\n",
    "londonConnections = \"_dataset/london.connections.csv\"\n",
    "\n",
    "tempStations = csvReaderStations(londonStations)\n",
    "tempLines = csvReaderLines(londonLines)\n",
    "tempConnections = csvReaderConnections(londonConnections, tempLines, tempStations)"
   ]
  },
  {
   "cell_type": "markdown",
   "id": "afd80321-de0a-4fda-b22f-40edf21499f4",
   "metadata": {},
   "source": [
    "### Graph Generation"
   ]
  },
  {
   "cell_type": "markdown",
   "id": "78f8caa1-92b0-4dfc-b55e-2c2adbec9fd3",
   "metadata": {},
   "source": [
    "A list of stations, lines and connections are generated from the given .CSV files, and used as input to declare the GraphBuilder object.\n",
    "The graph is then loaded with this information, and stores relevant info pertaining to the graph within this object.\n"
   ]
  },
  {
   "cell_type": "code",
   "execution_count": 2,
   "id": "613726a7-c75a-44f2-9f99-b17abf7ac66c",
   "metadata": {},
   "outputs": [],
   "source": [
    "tempStations = csvReaderStations(londonStations)\n",
    "tempLines = csvReaderLines(londonLines)\n",
    "tempConnections = csvReaderConnections(londonConnections, tempLines, tempStations)\n",
    "\n",
    "graph = GraphBuilder(tempStations, tempLines, tempConnections)\n",
    "graph.load_graph()"
   ]
  },
  {
   "cell_type": "markdown",
   "id": "a757d17f-25f7-4f42-ae18-249ab1f09fc6",
   "metadata": {},
   "source": [
    "### Metric Extractor: Metrics"
   ]
  },
  {
   "cell_type": "markdown",
   "id": "aab57bd9-e36b-4f83-af06-ea6ff03e08af",
   "metadata": {},
   "source": [
    "A `MetricExtractor` object is declared that allows us to compute metrics and analyze shortest path using various algorithms. Only the pertinent or required metrics to be measured are imported, and used as input to the MetricExtractor's `compute_metric` function."
   ]
  },
  {
   "cell_type": "code",
   "execution_count": 3,
   "id": "ca870bce-e6da-48f1-913c-38fd6c22b4e7",
   "metadata": {},
   "outputs": [
    {
     "data": {
      "text/plain": [
       "{10: 1, 2: 191, 4: 43, 8: 4, 3: 15, 7: 2, 1: 24, 6: 16, 5: 5, 12: 1}"
      ]
     },
     "execution_count": 3,
     "metadata": {},
     "output_type": "execute_result"
    }
   ],
   "source": [
    "analyzer = MetricExtractor(graph)\n",
    "\n",
    "from ConnectionNumber import ConnectionNumber\n",
    "analyzer.compute_metric(ConnectionNumber())\n",
    "\n",
    "# from DegreePerNode import DegreePerNode\n",
    "# temp = metric.compute_metric(DegreePerNode())\n",
    "\n",
    "# from AverageDegree import AverageDegree\n",
    "# metric.compute_metric(AverageDegree())\n",
    "\n",
    "from DegreePerStation import DegreePerStation\n",
    "analyzer.compute_metric(DegreePerStation())"
   ]
  },
  {
   "cell_type": "markdown",
   "id": "ce34415e-cd69-4988-8e8e-c3ebac24f0ad",
   "metadata": {},
   "source": [
    "### Metric Extractor: Algorithms"
   ]
  },
  {
   "cell_type": "markdown",
   "id": "208655e8-ec35-4544-a0f6-5bf1b4af6de6",
   "metadata": {},
   "source": [
    "The `MetricExtractor` object is given an algorithm to compute shortest path between two given nodes, as station IDs. A threshold of how much leeway time the user would like can also be set."
   ]
  },
  {
   "cell_type": "markdown",
   "id": "bd22b90f-1321-40a6-8918-214fbbf43c18",
   "metadata": {},
   "source": [
    "#### Dijkstra"
   ]
  },
  {
   "cell_type": "code",
   "execution_count": 5,
   "id": "b0d93ff8-5311-4cb2-bcd9-7aa1e581a776",
   "metadata": {},
   "outputs": [
    {
     "name": "stdout",
     "output_type": "stream",
     "text": [
      "Dijkstra:  ['11', '163', '82', '193', '218', '283', '147', '150', '227', '101', '110', '265', '1', '234', '176', '30', '190', '131'] \n",
      "\n",
      "Stations             Line                           Line Number          Time      \n",
      "---------------------------------------------------------------------------------\n",
      "11 --> 163           Bakerloo Line                  1                    1         \n",
      "163 --> 82           Bakerloo Line                  1                    2         \n",
      "82 --> 193           Bakerloo Line                  1                    3         \n",
      "193 --> 218          Hammersmith & City Line        6                    1         \n",
      "218 --> 283          Hammersmith & City Line        6                    2         \n",
      "283 --> 147          Hammersmith & City Line        6                    2         \n",
      "147 --> 150          Hammersmith & City Line        6                    1         \n",
      "150 --> 227          Hammersmith & City Line        6                    2         \n",
      "227 --> 101          Hammersmith & City Line        6                    1         \n",
      "101 --> 110          Hammersmith & City Line        6                    2         \n",
      "110 --> 265          Piccadilly Line                10                   2         \n",
      "265 --> 1            Piccadilly Line                10                   3         \n",
      "1 --> 234            Piccadilly Line                10                   4         \n",
      "234 --> 176          Piccadilly Line                10                   1         \n",
      "176 --> 30           Piccadilly Line                10                   2         \n",
      "30 --> 190           Piccadilly Line                10                   3         \n",
      "190 --> 131          Piccadilly Line                10                   2         \n",
      "\n",
      "\n",
      "Total Stations:      17                             Total Time:          34        \n",
      "\n",
      "\n"
     ]
    }
   ],
   "source": [
    "analyzer._strategy = Dijkstra()\n",
    "analyzer.algorithm('11', '131')\n",
    "analyzer.print_output()"
   ]
  },
  {
   "cell_type": "markdown",
   "id": "d8cc4d84-36c6-4858-80c2-4b79a56e9fb6",
   "metadata": {},
   "source": [
    "#### A*"
   ]
  },
  {
   "cell_type": "code",
   "execution_count": 6,
   "id": "db4aed22-dc3a-4702-b75d-f6f65156a4e4",
   "metadata": {},
   "outputs": [
    {
     "name": "stdout",
     "output_type": "stream",
     "text": [
      "A*:  ['11', '28', '192', '259', '126', '48', '250', '13', '156', '24', '164', '33', '36', '289', '200'] \n",
      "\n",
      "Stations             Line                           Line Number          Time      \n",
      "---------------------------------------------------------------------------------\n",
      "11 --> 28            Jubilee Line                   7                    2         \n",
      "28 --> 192           Central Line                   2                    1         \n",
      "192 --> 259          Central Line                   2                    2         \n",
      "259 --> 126          Central Line                   2                    2         \n",
      "126 --> 48           Central Line                   2                    1         \n",
      "48 --> 250           Central Line                   2                    2         \n",
      "250 --> 13           Central Line                   2                    2         \n",
      "13 --> 156           Central Line                   2                    2         \n",
      "156 --> 24           Central Line                   2                    3         \n",
      "24 --> 164           Central Line                   2                    2         \n",
      "164 --> 33           Hammersmith & City Line        6                    1         \n",
      "33 --> 36            Hammersmith & City Line        6                    2         \n",
      "36 --> 289           Hammersmith & City Line        6                    2         \n",
      "289 --> 200          Hammersmith & City Line        6                    2         \n",
      "\n",
      "\n",
      "Total Stations:      14                             Total Time:          26        \n",
      "\n",
      "\n"
     ]
    }
   ],
   "source": [
    "analyzer._strategy = A_Star()\n",
    "analyzer.algorithm('11', '200')\n",
    "analyzer.set_threshold(1)\n",
    "analyzer.print_output()"
   ]
  },
  {
   "cell_type": "markdown",
   "id": "b041eccd-b3c0-48ae-89c7-abd1bea9aedf",
   "metadata": {},
   "source": [
    "### Distribution of Nodes' Degrees"
   ]
  },
  {
   "cell_type": "markdown",
   "id": "336ea0a1-574a-457f-a3a5-eece89a8c067",
   "metadata": {},
   "source": [
    "A `pyplot` of the node degree vs frequency is plotted below, using the information from the graph."
   ]
  },
  {
   "cell_type": "code",
   "execution_count": 7,
   "id": "32549eed",
   "metadata": {},
   "outputs": [
    {
     "data": {
      "image/png": "[encoded data removed]",
      "text/plain": [
       "<Figure size 640x480 with 1 Axes>"
      ]
     },
     "metadata": {},
     "output_type": "display_data"
    },
    {
     "name": "stdout",
     "output_type": "stream",
     "text": [
      "Degree of Nodes vs Frequency Values:  {10: 1, 2: 191, 4: 43, 8: 4, 3: 15, 7: 2, 1: 24, 6: 16, 5: 5, 12: 1}\n"
     ]
    }
   ],
   "source": [
    "from Plotter import Plotter\n",
    "analyzer.compute_metric(Plotter())"
   ]
  },
  {
   "cell_type": "markdown",
   "id": "95425652-3056-4a94-b7d4-e7d7bed4ee87",
   "metadata": {},
   "source": [
    "### temporary design choices section\n",
    "- benchmarks\n",
    "\n",
    "- connection info is its own class because that allows us to compact the connection class and treat the connection more as a traditional edge that contains two connecting nodes. Adding more information to an edge does not modify the connection class, which ties into single responsibility, open-closed principle?\n",
    "- graph is depicted via adjacency matrix because it allows us to access our neighbours more quickly (?) compared to an adjacency list, which is helpful for what we want to do with our graph such as compute shortest path.\n",
    "\n",
    "-------\n",
    "\n",
    "- [done] plotter\n",
    "- [DONE] graph builder class focuses on producing a graph given the dataset with the use of helper functions.\n",
    "- [DONE] ### line, station, and connection have been chosen to have their own classes because this design follows the single responsibility principle. A single file does not have to worry about information of both lines and station, and instead has the sole purpose of depicting the properties of one individual thing.\n",
    "- [DONE] our algorithms are in seperate files to incorporate the strategy / factory design pattern (?)\n",
    "- [DONE] we include each metric extraction in seperate files to follow the open-closed principle. If one were to want another metric measured, we would not have to modify existing code and instead add onto our codebase.\n",
    "- [DONE] in SP algorithms, we do not return the absolute shortest path in terms of time. Instead, we have a tolerable threshhold time that one can \"lose\" to remain on the same line.\n",
    "- [DONE] in the case where we run the code in the same cell multiple times without clearing the kernel, we acknoledged the potential for our code to be ran on the existing information from the previous run and the code simply adds onto existing information. For example, our number of stations would begin at 302 stations, but then running n times without refreshing kernel, we'd have n*302 stations. This was a significant issue for us because we envisioned a scenario where a user would use our library in an app, but would need to run a part of the library twice. Typically, users would not want to relaunch the application to redo an operation (which we saw as not wanting to refresh the kernel). Thus, we needed to check if the information (ex. stations, edges) were not redundant."
   ]
  },
  {
   "cell_type": "markdown",
   "id": "c6538419-0672-48d5-8238-9096a1d28ab8",
   "metadata": {},
   "source": [
    "## Design Choices"
   ]
  },
  {
   "cell_type": "markdown",
   "id": "9b95418b-e268-488b-9627-4b9d87e01ebc",
   "metadata": {},
   "source": [
    "The file structure of this library is separated into `src`, which holds the `Graph_Builder` and `Metric_Extractor` modules; `_dataset`, which holds the raw data in `.csv` files; and `Benchmarking`, which holds files pertinent to testing and benchmarking. \n",
    "\n",
    "Throughout the library, classes and functions are separated into their own files to follow the **single responsibility SOLID principle**. This allows a single file to focus solely on its responsibility and not unnecessarily depend or rely on the information of another file that is not needed. For example, Metric_Extractor imports ConnectionNodes() as a metric only when needed, and does not take up extra space (?). Each class and function definition has the sole purpose of depicting the properties of itself; dependencies are only listed when necessary.\n",
    "\n",
    "##### Analyzing .csv Files and Graph_Builder\n",
    "\n",
    "The given dataset was chosen to be stored as Station, Line and Connection objects, rather than storing individual values. By condensing the headers of the .csv files into these objects, **it allows for the code to be expandable, flexible and organized.** All information related to the stations are stored as attributes inside a Station object, and similarly for Line and Connection. Getters are placed to easily access each object's attributes.\n",
    "\n",
    "This design keeps in mind that the .csv files are subject to change, whether that be reordering the columns or adding additional information. The objects made from these datasets are stored such that the Graph_Builder module only need the objects themselves to be able to generate a graph. In other words, the code is flexible and allows the user to provide a common ground for the module to organize the data into interpretable information. Setters were not commonly implemented because of the lack of necessity for this specific example, although the design can easily be adjusted to accomodate for this (open for extension).\n",
    "\n",
    "The `Graph_Builder` module focuses on producing a graph given the dataset. It uses defined helper functions to add stations and connections to the graph, and load this information into an **adjacency list.** In comparison to an adjacency matrix, the adjacency list ___. \n",
    "\n",
    "##### Plotter\n",
    "\n",
    "We assumed that the pyplot of the graph should be bundled into the Metric_Extractor module as a Concrete Strategy (Concrete Metric). We provided this implementation to further reinforce the Strategy pattern and the single responsibility principle. \n",
    "\n",
    "\n",
    "##### Strategy Pattern and Metric_Extractor\n",
    "\n",
    "The Strategy design pattern was utilized to compute metrics, as well as use algorithms. This design pattern allows us to define a certain family of algorithms and metrics, and insert/call/swap them at runtime when needed. Each strategy is defined individually in its own file while inheriting the Strategy interface. By doing this, the algorithm's implementation is separated from the class' business logic. By allowing the user to swap the algorithm at runtime, it enforces the open-closed principle, isolating the algorithm in its own class and allowing it to not use up space if not needed. \n",
    "\n",
    "This design enforces the **open-closed principle,** by allowing the user to *extend* upon the Strategy abstract class and insert a new algorithm into the library. This also makes the classes *closed for modification* - additional functions within each Concrete Strategy (algorithm) class can be defined independently of the parent abstract class, so no modification of existing files is required. This principle and concept also applies to the Metric abstract class, and the Concerete Metrics.\n",
    "\n",
    "The `MetricExtractor` class takes the defined graph from Graph_Builder to be able to compute both metrics and algorithm analysis. It is not initialized with a `start` or `target` station, since metrics can be deduced from the graph without those inputs. These nodes are instead fed into the `do_algorithm` function defined in the Strategy class.\n",
    "\n",
    "##### Algorithms \n",
    "\n",
    "A set of helper functions in `OutputHelper` are defined to help present the output of the Concrete Strategy algorithms. Within these shortest path functions, some design choices regarding the transit time and line are made. In the case that similar paths could be ranked equally, the next best solution is to maintain the user's current line on the path. We can define the tradeoff between getting to our destination faster versus transit convenience by some input `threshold`. In this implementation, the user can input a threshold time that gives the algorithm extra time to determine a path that keeps the user on the same line for as long as possible. This threshold proves useful in the example illustrated in *Example of Threshold Behaviour* below.\n",
    "\n",
    "##### Benchmarks\n",
    "\n",
    "- discuss benchmarks that were used, which KPIs were measured, why we couldn't measure all KPIs, which ones we would have measured\n",
    "- any issues/errors with benchmarking\n",
    "\n",
    "##### Jupyter Notebook Format\n",
    "\n",
    "Imports and module-specific files are imported in their respective cells, without overlapping. This is done for a) user readability and b) to avoid object comparison at runtime. Due to the use of objects in memory, rerunning code where objects are stored in a cell multiple times can lead to `KeyErrors`, `TypeErrors` and `ValueErrors`. By separating object creation and metric extraction, this guarantees the same objects in memory to be accessed. This way, the kernel does not have to be restarted every time the code is run; individual cells can be executed repeatedly.\n",
    "\n",
    "This design choice is implemented in particular with user experience in mind. A user should not have to relaunch their app every time they want to calculate a different metric or use a different algorithm (in this case, refreshing the kernel). Of course, we envision a much more in-depth way of presenting information, so the structure of this notebook is not ideal for the average user - we have just laid out the general flow of accessing important data from our library.\n"
   ]
  },
  {
   "cell_type": "markdown",
   "id": "b8b8c5c8-6a7b-4101-8970-984893129428",
   "metadata": {},
   "source": [
    "#### &rarr; Algorithms: Example of Threshold Behaviour"
   ]
  },
  {
   "cell_type": "markdown",
   "id": "61acfe1d-9d92-4aee-a695-5ef0caa765c9",
   "metadata": {},
   "source": [
    "Below is a working example of the threshold's advantages, using the A* algorithm. When calculating the shortest path between stations 11 and 30 with a default `threshold = 0`, the second stop asks the user to switch lines from `Hammersmith & City Line` to `District Line`. By setting the threshold to `1` in the cell below, the algorithm computes a time within the threshold that lets the user maintain the current line."
   ]
  },
  {
   "cell_type": "code",
   "execution_count": null,
   "id": "75a24c63-94af-4074-a3ff-6e5c2aae58f0",
   "metadata": {},
   "outputs": [],
   "source": [
    "metric._strategy = A_Star()\n",
    "metric.algorithm('11', '30')\n",
    "metric.set_threshold(0)\n",
    "metric.print_output()"
   ]
  },
  {
   "cell_type": "code",
   "execution_count": null,
   "id": "a0811fa6-8d9b-4918-a99f-12dd895248c1",
   "metadata": {},
   "outputs": [],
   "source": [
    "metric._strategy = A_Star()\n",
    "metric.algorithm('11', '30')\n",
    "metric.set_threshold(1)\n",
    "metric.print_output()"
   ]
  },
  {
   "cell_type": "markdown",
   "id": "838e92e2-569c-4791-9c8d-72f64385f823",
   "metadata": {
    "tags": []
   },
   "source": [
    "## Benchmarking"
   ]
  },
  {
   "cell_type": "markdown",
   "id": "0eb0b1e9-3753-48a4-b656-5982c33aee70",
   "metadata": {},
   "source": [
    "TEST"
   ]
  },
  {
   "cell_type": "markdown",
   "id": "8eab43c5-801b-484d-9d6a-1968c8718de8",
   "metadata": {},
   "source": [
    "## Self Reflections"
   ]
  },
  {
   "cell_type": "markdown",
   "id": "954d33c4-e8cf-4ae0-b1ca-b60d0858c03f",
   "metadata": {},
   "source": [
    "##### Stanley Nguyen, nguyes44"
   ]
  },
  {
   "cell_type": "markdown",
   "id": "9590fe7f-a92f-41fd-b028-0464b3caa09e",
   "metadata": {},
   "source": [
    "**Backward:** \n",
    "\n",
    "**Inward:** \n",
    "\n",
    "**Outward:** \n",
    "\n",
    "**Forward:** "
   ]
  },
  {
   "cell_type": "markdown",
   "id": "5466a0da-df28-4c7e-a4a5-e30fc42c36d6",
   "metadata": {},
   "source": [
    "##### Arvind Shastri, shasta2"
   ]
  },
  {
   "cell_type": "markdown",
   "id": "6a628680-e8a0-4615-be18-9407e8d1f78b",
   "metadata": {},
   "source": [
    "**Backward:** Although we've learned the algorithms and design patterns that we've implemented in SFWRENG 2C03 and 2AA4 last year (respectively), the actual implementation of both of these concepts was new. We had implemented strategy patterns in 2AA4 in Java, which was quite differen to this, and discussions about graphs and graph traversal algorithms was mostly theoretical in 2C03. This is the first time that I've extensively delved into these topics in a way that utilizes so many features of both.\n",
    "\n",
    "**Inward:** I think this lab as a starting point was significantly challenging - since I had no prior experience with any project akin to this, it was quite difficult to wrap my head around the requirements and structure of the final output. The lab structure was overwhelming and lots of parts took a lot more time than anticipated. A significant challenge of this lab was the time allotted and the complexity of each week's requirements. It seemed as though my partner and I could get on track to week 1 at the end of week 1, but we found ourselves discussing and falling behind as the weeks went. It is hard to judge whether this is a result of my lack of experience in these kinds of assignments, or if the lab itself was hard. Our final lab output is not complete by any means, and lacks a lot of structure and responsibility that is taken care of in the later parts of the lab. \n",
    "\n",
    "However, the thought process that went behind formulating the correct structure, method and flow of the modules was executed pretty well. There was lots of back and forth discussion between my partner and I to justify our design choices and how it would be best to implement each section. Although this discussion costed us some time in the early stages, it was very beneficial to the overall outcome of the lab, and saved us time from having to go back and refactor/rework our code.\n",
    "\n",
    "**Outward:** I hope that the people who review this work (including you reading) can take away the amount of thought that has gone behind the structure of this lab. The discussion and thought that came from the implementation of this lab was a strong standout point to me as I look back on my and my lab partner's successes. I think that we did a good job translating that discussion into the Jupyter notebook, and more importantly, the code itself.\n",
    "\n",
    "**Forward:** Looking forward, I would try to be more proactive about capturing the requirements of the lab and starting the coding process as soon as possible. In my personal experience through this lab, I understood more about the requirements and what works/doesn't work once I started putting my thoughts down as code. Doing this from the get go in future labs will help tremendously with the progress of the lab, and allot my lab partner and I more time to complete more challenging tasks."
   ]
  },
  {
   "cell_type": "code",
   "execution_count": null,
   "id": "6be15ede-2f6c-4736-abe7-95246bf4a85b",
   "metadata": {},
   "outputs": [],
   "source": []
  }
 ],
 "metadata": {
  "kernelspec": {
   "display_name": "Python 3 (ipykernel)",
   "language": "python",
   "name": "python3"
  },
  "language_info": {
   "codemirror_mode": {
    "name": "ipython",
    "version": 3
   },
   "file_extension": ".py",
   "mimetype": "text/x-python",
   "name": "python",
   "nbconvert_exporter": "python",
   "pygments_lexer": "ipython3",
   "version": "3.10.7"
  },
  "vscode": {
   "interpreter": {
    "hash": "53741cd84b8b3ec359723c6404ff65430f62c96c26c4557007fdac52d7106b64"
   }
  }
 },
 "nbformat": 4,
 "nbformat_minor": 5
}
